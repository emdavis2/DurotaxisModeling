{
  "nbformat": 4,
  "nbformat_minor": 0,
  "metadata": {
    "colab": {
      "name": "SimpleDurotaxisModel.ipynb",
      "provenance": [],
      "collapsed_sections": [],
      "authorship_tag": "ABX9TyMaCeRrxNzBCww1binyGgo1",
      "include_colab_link": true
    },
    "kernelspec": {
      "name": "python3",
      "display_name": "Python 3"
    },
    "language_info": {
      "name": "python"
    }
  },
  "cells": [
    {
      "cell_type": "markdown",
      "metadata": {
        "id": "view-in-github",
        "colab_type": "text"
      },
      "source": [
        "<a href=\"https://colab.research.google.com/github/emdavis2/DurotaxisModeling/blob/main/SimpleDurotaxisModel.ipynb\" target=\"_parent\"><img src=\"https://colab.research.google.com/assets/colab-badge.svg\" alt=\"Open In Colab\"/></a>"
      ]
    },
    {
      "cell_type": "markdown",
      "metadata": {
        "id": "xt6HPL8FGdDt"
      },
      "source": [
        "First we are going to model the Ornstein-Uhlenbeck process, a solution to the Langevin Equation (a stochastic differential equation), using the Euler-Maruyama method.\n",
        "\n",
        "The Ornstein-Uhlenbeck process describes the stochastic evolution of a particle in a fluid under the influence of friction \n",
        "\n",
        "https://ipython-books.github.io/134-simulating-a-stochastic-differential-equation/"
      ]
    },
    {
      "cell_type": "code",
      "metadata": {
        "id": "NZ5xsg0XK8Lp"
      },
      "source": [
        "import numpy as np\n",
        "import matplotlib.pyplot as plt"
      ],
      "execution_count": null,
      "outputs": []
    },
    {
      "cell_type": "code",
      "metadata": {
        "id": "-CUD8QtEMEBh"
      },
      "source": [
        "sigma = 1. #standard deviation\n",
        "mu = 10. #mean\n",
        "tau = .05 #time constant"
      ],
      "execution_count": null,
      "outputs": []
    },
    {
      "cell_type": "code",
      "metadata": {
        "id": "6jJzUYaQJ7U0"
      },
      "source": [
        "dt = 0.001 #time step\n",
        "T = 1. #total time\n",
        "n = int(T/dt) #number of time steps\n",
        "t = np.linspace(0., T, n) #vector of times"
      ],
      "execution_count": null,
      "outputs": []
    },
    {
      "cell_type": "code",
      "metadata": {
        "id": "Lbw_9a8rKUgl"
      },
      "source": [
        "sigma_bis = sigma * np.sqrt(2./tau)\n",
        "sqrtdt = np.sqrt(dt)"
      ],
      "execution_count": null,
      "outputs": []
    },
    {
      "cell_type": "code",
      "metadata": {
        "id": "RdCLY5PpK3R2"
      },
      "source": [
        "x = np.zeros(n)"
      ],
      "execution_count": null,
      "outputs": []
    },
    {
      "cell_type": "code",
      "metadata": {
        "id": "1-3HdBElK8cJ"
      },
      "source": [
        "for i in range(n-1):\n",
        "  x[i+1]=x[i] + dt * (-(x[i]-mu)/tau) + sigma_bis * sqrtdt * np.random.randn()"
      ],
      "execution_count": null,
      "outputs": []
    },
    {
      "cell_type": "code",
      "metadata": {
        "colab": {
          "base_uri": "https://localhost:8080/",
          "height": 283
        },
        "id": "X7X-i9_SLkwu",
        "outputId": "54a0807a-ea0e-4538-b9bc-2b62b966c794"
      },
      "source": [
        "fig, ax = plt.subplots(1, 1, figsize=(8,4))\n",
        "ax.plot(t, x, lw=2)"
      ],
      "execution_count": null,
      "outputs": [
        {
          "output_type": "execute_result",
          "data": {
            "text/plain": [
              "[<matplotlib.lines.Line2D at 0x7fa80182f610>]"
            ]
          },
          "metadata": {},
          "execution_count": 8
        },
        {
          "output_type": "display_data",
          "data": {
            "image/png": "[encoded data removed]",
            "text/plain": [
              "<Figure size 576x288 with 1 Axes>"
            ]
          },
          "metadata": {
            "needs_background": "light"
          }
        }
      ]
    },
    {
      "cell_type": "code",
      "metadata": {
        "colab": {
          "base_uri": "https://localhost:8080/",
          "height": 357
        },
        "id": "l-Xmal6nL1JP",
        "outputId": "976dde62-17cd-4521-8720-73bf940861cb"
      },
      "source": [
        "ntrials = 10000\n",
        "X = np.zeros(ntrials)\n",
        "\n",
        "bins = np.linspace(-2., 14., 100)\n",
        "fig, ax = plt.subplots(1, 1, figsize=(8,4))\n",
        "for i in range(n):\n",
        "  X += dt * (-(X - mu)/tau) + sigma_bis * sqrtdt * np.random.randn(ntrials)\n",
        "  if i in (5,50,900):\n",
        "    hist, _ = np.histogram(X, bins = bins)\n",
        "    ax.plot((bins[1:] + bins[:-1]) / 2, hist,\n",
        "                {5: '-', 50: '.', 900: '-.', }[i],\n",
        "                label=f\"t={i * dt:.2f}\")\n",
        "  ax.legend()"
      ],
      "execution_count": null,
      "outputs": [
        {
          "output_type": "stream",
          "text": [
            "No handles with labels found to put in legend.\n",
            "No handles with labels found to put in legend.\n",
            "No handles with labels found to put in legend.\n",
            "No handles with labels found to put in legend.\n",
            "No handles with labels found to put in legend.\n"
          ],
          "name": "stderr"
        },
        {
          "output_type": "display_data",
          "data": {
            "image/png": "[encoded data removed]",
            "text/plain": [
              "<Figure size 576x288 with 1 Axes>"
            ]
          },
          "metadata": {
            "needs_background": "light"
          }
        }
      ]
    },
    {
      "cell_type": "markdown",
      "metadata": {
        "id": "e8STYq7cNICa"
      },
      "source": [
        "## Durotaxis Model in 1D\n",
        "\n",
        "This model follows the Gillespeie algorithm and follows the paper from Malik and Gerlee (2019). We start off with a cell with randomly distributed focal adhesions, $x_{i} \\in \\mathbb{R}, i=1,...,n$. We compute the initial nucleus position through $X=\\frac{1}{n}\\sum_{i}x_{i}$. Each focal adhesion site has a corresponding rate parameter $\\lambda_{i}=\\beta + \\gamma \\frac{|u_{i}| - |\\tilde{u}|}{\\sum_{j} |u_{j}|}$ where $|u_{i}|=|\\frac{F}{E(x_{i})}|$. For constant stiffness, $E$, we have $\\lambda_{i}=\\beta$ for all $i$ and we assume that the force exerted is the same at every adhesion site so the force term can be factored out and incorporated in the parameter $\\gamma$, thus giving us $|u_{i}|=\\frac{1}{E(x_{i})}$. We initialize the time at t=0 and specify some end tiem and begin the algorithm. While t is less than the specified end time, we do the following process:\n",
        "\n",
        "\n",
        "1.   Compute $\\lambda_{i}$ for each site $i$ and $\\Lambda=\\frac{1}{n}\\sum_{i}\\lambda_{i}$\n",
        "2.   Compute time until next event such that $\\tau \\sim Exp(\\Lambda)$\n",
        "3. Generate a uniform random number $r \\sim U([0,1])$. For each site, $i$, if $\\frac{\\lambda_{i-1}}{\\Lambda} \\leq r < \\frac{\\lambda_{i}}{\\Lambda}$, update the position $x_{i}=N(X, \\sigma^{2})$ of site $i$\n",
        "4. Update the new nucleus position with $X=\\frac{1}{n}\\sum_{i}x_{i}$\n",
        "5. Progress $t$ as $t=t+\\tau$\n",
        "\n"
      ]
    },
    {
      "cell_type": "code",
      "metadata": {
        "id": "YHjCwVPrPFej"
      },
      "source": [
        "import numpy as np\n",
        "import matplotlib.pyplot as plt\n",
        "import random as rand\n",
        "\n",
        "#rand.seed(10)\n",
        "\n",
        "#define parameters\n",
        "n = 3 #number of sites\n",
        "sigma = 0.05 #std dev for normal dist\n",
        "beta = 0.5\n",
        "gamma = 1\n",
        "\n",
        "#time range \n",
        "T = 10"
      ],
      "execution_count": null,
      "outputs": []
    },
    {
      "cell_type": "code",
      "metadata": {
        "id": "IiTru08COb4r"
      },
      "source": [
        "#stiffness function \n",
        "def E(x):\n",
        "  return 3 + 0.9 * x\n",
        "\n",
        "#nucleus position function\n",
        "def nuc_pos(x, n):\n",
        "  return (1/n) * np.sum(x)\n",
        "\n",
        "#lambda for each position \n",
        "def lamb(Ex, n):\n",
        "  lambda_is = []\n",
        "  for i in range(n):\n",
        "    u_i = np.abs(1/Ex[i])\n",
        "    u_else = np.abs((1/(n-1)) * np.sum((1/np.array(Ex[0:i])).tolist() + (1/np.array(Ex[i+1:])).tolist()))\n",
        "    lambda_is.append(beta + gamma * ((u_i - u_else)/np.sum(np.abs(1/np.array(Ex)))))\n",
        "  return lambda_is"
      ],
      "execution_count": null,
      "outputs": []
    },
    {
      "cell_type": "code",
      "metadata": {
        "id": "ix6QAR4cO3Ug"
      },
      "source": [
        "#initialize positions\n",
        "pos_FA = rand.sample(range(1,20),n)\n",
        "pos_nuc = nuc_pos(pos_FA, n)\n",
        "\n",
        "#create grid of stiffnesses in space\n",
        "Ex = []\n",
        "for i in range (n):\n",
        "  Ex.append(E(pos_FA[i]))"
      ],
      "execution_count": null,
      "outputs": []
    },
    {
      "cell_type": "code",
      "metadata": {
        "colab": {
          "base_uri": "https://localhost:8080/"
        },
        "id": "0EokUKF1NxRw",
        "outputId": "89509bb2-332a-48cd-e2a8-4348d1cb6b89"
      },
      "source": [
        "print(Ex)"
      ],
      "execution_count": null,
      "outputs": [
        {
          "output_type": "stream",
          "name": "stdout",
          "text": [
            "[17.4, 12.9, 5.7]\n"
          ]
        }
      ]
    },
    {
      "cell_type": "code",
      "metadata": {
        "id": "Z-yBXIZIg93m"
      },
      "source": [
        "t = 0\n",
        "\n",
        "Xlist = []\n",
        "time = []\n",
        "\n",
        "while t<T:\n",
        "  time.append(t)\n",
        "  Xlist.append(pos_nuc)\n",
        "  Lambda = np.sum(lamb(Ex, n))\n",
        "  t_next = np.random.exponential(scale = 1/Lambda)\n",
        "  r = np.random.uniform()\n",
        "  for i in range(1,n):\n",
        "    lb = lamb(Ex, n)[i-1]/Lambda\n",
        "    ub = lamb(Ex, n)[i]/Lambda\n",
        "    if r >= lb and r < ub:\n",
        "      pos_FA[i] = np.random.normal(pos_nuc, sigma**2)\n",
        "      Ex[i] = E(pos_FA[i])\n",
        "    else:\n",
        "      continue\n",
        "    pos_nuc = nuc_pos(pos_FA, n)\n",
        "    t += t_next\n",
        "\n"
      ],
      "execution_count": null,
      "outputs": []
    },
    {
      "cell_type": "code",
      "metadata": {
        "colab": {
          "base_uri": "https://localhost:8080/",
          "height": 297
        },
        "id": "SAEvhebgsBzN",
        "outputId": "e4d4556c-def8-41f2-e4c8-bcbd4e586b22"
      },
      "source": [
        "plt.plot(time, Xlist)\n",
        "plt.xlabel(\"time\")\n",
        "plt.ylabel('nucleus position')"
      ],
      "execution_count": null,
      "outputs": [
        {
          "output_type": "execute_result",
          "data": {
            "text/plain": [
              "Text(0, 0.5, 'nucleus position')"
            ]
          },
          "metadata": {},
          "execution_count": 50
        },
        {
          "output_type": "display_data",
          "data": {
            "image/png": "[encoded data removed]",
            "text/plain": [
              "<Figure size 432x288 with 1 Axes>"
            ]
          },
          "metadata": {
            "needs_background": "light"
          }
        }
      ]
    },
    {
      "cell_type": "code",
      "metadata": {
        "colab": {
          "base_uri": "https://localhost:8080/"
        },
        "id": "eTrt5kQDsvA1",
        "outputId": "161d1c2f-a69f-44f2-b606-3e8f50ed35d3"
      },
      "source": [
        "print(Ex)"
      ],
      "execution_count": null,
      "outputs": [
        {
          "output_type": "stream",
          "name": "stdout",
          "text": [
            "[17.4, 17.03780759888737, 16.783036603249904]\n"
          ]
        }
      ]
    },
    {
      "cell_type": "markdown",
      "metadata": {
        "id": "728dZepaPJWY"
      },
      "source": [
        "## 1D Durotaxis model with next time of event given by $\\tau = \\Delta t \\lambda$ rather than $\\tau \\sim Exp(\\Lambda)$\n",
        "\n",
        "Exponential distribution probability density function is given by $\\lambda e^{-\\lambda t}$ and the probability that an event happens in time interval $\\Delta t$ is $P(t \\leq \\Delta t) = \\int_{0}^{\\Delta t} \\lambda e^{-\\lambda t}dt = 1-e^{-\\Delta t \\lambda}$. Taylor expanding this result, we get $1-e^{-\\Delta t \\lambda} \\approx \\Delta t \\lambda$."
      ]
    },
    {
      "cell_type": "code",
      "metadata": {
        "id": "7I4tW1vwT9-r"
      },
      "source": [
        "import numpy as np\n",
        "import matplotlib.pyplot as plt\n",
        "import random as rand\n",
        "\n",
        "#rand.seed(10)\n",
        "\n",
        "#define parameters\n",
        "n = 3 #number of sites\n",
        "sigma = 0.05 #std dev for normal dist\n",
        "beta = 0.5\n",
        "gamma = 1\n",
        "\n",
        "#time range \n",
        "T = 10\n",
        "\n",
        "dt = .1"
      ],
      "execution_count": null,
      "outputs": []
    },
    {
      "cell_type": "code",
      "metadata": {
        "id": "dJOMUeQ6UJLC"
      },
      "source": [
        "#stiffness function \n",
        "def E(x):\n",
        "  return 3 + 0.9 * x\n",
        "\n",
        "#nucleus position function\n",
        "def nuc_pos(x, n):\n",
        "  return (1/n) * np.sum(x)\n",
        "\n",
        "#lambda for each position \n",
        "def lamb(Ex, n):\n",
        "  lambda_is = []\n",
        "  for i in range(n):\n",
        "    u_i = np.abs(1/Ex[i])\n",
        "    u_else = np.abs((1/(n-1)) * np.sum((1/np.array(Ex[0:i])).tolist() + (1/np.array(Ex[i+1:])).tolist()))\n",
        "    lambda_is.append(beta + gamma * ((u_i - u_else)/np.sum(np.abs(1/np.array(Ex)))))\n",
        "  return lambda_is"
      ],
      "execution_count": null,
      "outputs": []
    },
    {
      "cell_type": "code",
      "metadata": {
        "id": "y2-J6cqWUOBl"
      },
      "source": [
        "#initialize positions\n",
        "pos_FA = rand.sample(range(1,20),n)\n",
        "pos_nuc = nuc_pos(pos_FA, n)\n",
        "\n",
        "#create grid of stiffnesses in space\n",
        "Ex = []\n",
        "for i in range (n):\n",
        "  Ex.append(E(pos_FA[i]))"
      ],
      "execution_count": null,
      "outputs": []
    },
    {
      "cell_type": "code",
      "metadata": {
        "id": "WmJdOEGNUSmS"
      },
      "source": [
        "t = 0\n",
        "\n",
        "Xlist = []\n",
        "time = []\n",
        "\n",
        "while t<T:\n",
        "  time.append(t)\n",
        "  Xlist.append(pos_nuc)\n",
        "  Lambda = np.sum(lamb(Ex, n))\n",
        "  t_next = dt * Lambda\n",
        "  r = np.random.uniform()\n",
        "  for i in range(1,n):\n",
        "    lb = lamb(Ex, n)[i-1]/Lambda\n",
        "    ub = lamb(Ex, n)[i]/Lambda\n",
        "    if r >= lb and r < ub:\n",
        "      pos_FA[i] = np.random.normal(pos_nuc, sigma**2)\n",
        "      Ex[i] = E(pos_FA[i])\n",
        "    else:\n",
        "      continue\n",
        "    pos_nuc = nuc_pos(pos_FA, n)\n",
        "    t += t_next\n",
        "\n"
      ],
      "execution_count": null,
      "outputs": []
    },
    {
      "cell_type": "code",
      "metadata": {
        "id": "5kcZwkXwUXjB",
        "colab": {
          "base_uri": "https://localhost:8080/",
          "height": 297
        },
        "outputId": "1f66bb02-6ce5-4f03-9817-e2f9b31a189c"
      },
      "source": [
        "plt.plot(time, Xlist)\n",
        "plt.xlabel(\"time\")\n",
        "plt.ylabel('nucleus position')"
      ],
      "execution_count": null,
      "outputs": [
        {
          "output_type": "execute_result",
          "data": {
            "text/plain": [
              "Text(0, 0.5, 'nucleus position')"
            ]
          },
          "metadata": {},
          "execution_count": 47
        },
        {
          "output_type": "display_data",
          "data": {
            "image/png": "[encoded data removed]",
            "text/plain": [
              "<Figure size 432x288 with 1 Axes>"
            ]
          },
          "metadata": {
            "needs_background": "light"
          }
        }
      ]
    },
    {
      "cell_type": "markdown",
      "metadata": {
        "id": "iirtQx6d9XRW"
      },
      "source": [
        "## 2D Durotaxis model\n",
        "\n",
        "Same model as 1D but in 2D"
      ]
    },
    {
      "cell_type": "code",
      "metadata": {
        "id": "5p3FMIeXtW6C"
      },
      "source": [
        "import numpy as np\n",
        "import matplotlib.pyplot as plt\n",
        "import random as rand\n",
        "\n",
        "#define parameters\n",
        "n = 8 #number of sites\n",
        "sigma = 0.05 #std dev for normal dist\n",
        "beta = 0.5\n",
        "gamma = 1\n",
        "\n",
        "#time range \n",
        "T = 10"
      ],
      "execution_count": null,
      "outputs": []
    },
    {
      "cell_type": "code",
      "metadata": {
        "id": "qMbiqPK-9x0o"
      },
      "source": [
        "#stiffness function \n",
        "def E(x):\n",
        "  return 3 + 0.9 * x\n",
        "\n",
        "#nucleus position function\n",
        "def nuc_pos(x, n):\n",
        "  return (1/n) * np.sum(x)\n",
        "\n",
        "#lambda for each position \n",
        "def lamb(Ex, n):\n",
        "  lambda_is = []\n",
        "  for i in range(n):\n",
        "    u_i = np.abs(1/Ex[i])\n",
        "    u_else = np.abs((1/(n-1)) * np.sum((1/np.array(Ex[0:i])).tolist() + (1/np.array(Ex[i+1:])).tolist()))\n",
        "    lambda_is.append(beta + gamma * ((u_i - u_else)/np.sum(np.abs(1/np.array(Ex)))))\n",
        "  return lambda_is"
      ],
      "execution_count": null,
      "outputs": []
    },
    {
      "cell_type": "code",
      "metadata": {
        "id": "sadm-ZVz91cK"
      },
      "source": [
        "#initialize positions\n",
        "pos_FA_x = rand.sample(range(1,20),n)\n",
        "pos_nuc_x = nuc_pos(pos_FA_x, n)\n",
        "pos_FA_y = rand.sample(range(1,20),n)\n",
        "pos_nuc_y = nuc_pos(pos_FA_y, n)\n",
        "\n",
        "#create grid of stiffnesses in space\n",
        "Ex = []\n",
        "for i in range (n):\n",
        "  Ex.append(E(pos_FA_x[i]))\n",
        "\n",
        "Ey = []\n",
        "for i in range (n):\n",
        "  Ey.append(E(pos_FA_y[i]))"
      ],
      "execution_count": null,
      "outputs": []
    },
    {
      "cell_type": "code",
      "metadata": {
        "id": "sVKc8gFz-Y_d"
      },
      "source": [
        "t = 0\n",
        "\n",
        "Xlist = []\n",
        "Ylist = []\n",
        "time = []\n",
        "\n",
        "while t<T:\n",
        "  time.append(t)\n",
        "  Xlist.append(pos_nuc_x)\n",
        "  Ylist.append(pos_nuc_y)\n",
        "  Exy = np.sqrt(Ex**2 + Ey**2)\n",
        "  Lambda = np.sum(lamb(Exy, n))\n",
        "  t_next = np.random.exponential(scale = 1/Lambda)\n",
        "  r = np.random.uniform()\n",
        "  for i in range(1,n):\n",
        "    lb = lamb(Exy, n)[i-1]/Lambda\n",
        "    ub = lamb(Exy, n)[i]/Lambda\n",
        "    if r >= lb and r < ub:\n",
        "      pos_FA[i] = np.random.normal(pos_nuc, sigma**2)\n",
        "      Ex[i] = E(pos_FA[i])\n",
        "    else:\n",
        "      continue\n",
        "    pos_nuc = nuc_pos(pos_FA, n)\n",
        "    t += t_next\n",
        "\n"
      ],
      "execution_count": null,
      "outputs": []
    },
    {
      "cell_type": "code",
      "metadata": {
        "colab": {
          "base_uri": "https://localhost:8080/",
          "height": 297
        },
        "id": "iT-077HKBRU4",
        "outputId": "f138ebbd-323e-4024-cf65-d5a8ebd02bdb"
      },
      "source": [
        "plt.plot(time, Xlist)\n",
        "plt.xlabel(\"time\")\n",
        "plt.ylabel('nucleus position')"
      ],
      "execution_count": null,
      "outputs": [
        {
          "output_type": "execute_result",
          "data": {
            "text/plain": [
              "Text(0, 0.5, 'nucleus position')"
            ]
          },
          "metadata": {},
          "execution_count": 56
        },
        {
          "output_type": "display_data",
          "data": {
            "image/png": "[encoded data removed]",
            "text/plain": [
              "<Figure size 432x288 with 1 Axes>"
            ]
          },
          "metadata": {
            "needs_background": "light"
          }
        }
      ]
    },
    {
      "cell_type": "code",
      "metadata": {
        "colab": {
          "base_uri": "https://localhost:8080/"
        },
        "id": "wcBLxmpfBT_J",
        "outputId": "035cb8db-76da-4096-e51b-fc7df8c97dc7"
      },
      "source": [
        "print(Ex)"
      ],
      "execution_count": null,
      "outputs": [
        {
          "output_type": "stream",
          "name": "stdout",
          "text": [
            "[12.9, 8.4, 14.700000000000001, 16.5, 12.0, 17.4, 15.6, 6.6]\n"
          ]
        }
      ]
    },
    {
      "cell_type": "code",
      "metadata": {
        "colab": {
          "base_uri": "https://localhost:8080/"
        },
        "id": "Xu5pLfOmBh6f",
        "outputId": "92fa3166-10a7-4ae9-a9bf-fdd6994164f1"
      },
      "source": [
        "print(pos_FA)"
      ],
      "execution_count": null,
      "outputs": [
        {
          "output_type": "stream",
          "name": "stdout",
          "text": [
            "[11, 6, 13, 15, 10, 16, 14, 4]\n"
          ]
        }
      ]
    },
    {
      "cell_type": "code",
      "metadata": {
        "id": "x0RBsJZZB_1x",
        "colab": {
          "base_uri": "https://localhost:8080/",
          "height": 171
        },
        "outputId": "8f2744c4-9719-4ca5-e518-b1151afbd9ce"
      },
      "source": [
        "lamb(Ex)"
      ],
      "execution_count": null,
      "outputs": [
        {
          "output_type": "error",
          "ename": "TypeError",
          "evalue": "ignored",
          "traceback": [
            "\u001b[0;31m---------------------------------------------------------------------------\u001b[0m",
            "\u001b[0;31mTypeError\u001b[0m                                 Traceback (most recent call last)",
            "\u001b[0;32m<ipython-input-48-f0bc4909f3d9>\u001b[0m in \u001b[0;36m<module>\u001b[0;34m()\u001b[0m\n\u001b[0;32m----> 1\u001b[0;31m \u001b[0mlamb\u001b[0m\u001b[0;34m(\u001b[0m\u001b[0mEx\u001b[0m\u001b[0;34m)\u001b[0m\u001b[0;34m\u001b[0m\u001b[0;34m\u001b[0m\u001b[0m\n\u001b[0m",
            "\u001b[0;31mTypeError\u001b[0m: lamb() missing 1 required positional argument: 'n'"
          ]
        }
      ]
    },
    {
      "cell_type": "code",
      "metadata": {
        "id": "UDirraPkrMjX"
      },
      "source": [
        ""
      ],
      "execution_count": null,
      "outputs": []
    }
  ]
}